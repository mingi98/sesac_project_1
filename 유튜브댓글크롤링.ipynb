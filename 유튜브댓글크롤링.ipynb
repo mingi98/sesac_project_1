{
  "nbformat": 4,
  "nbformat_minor": 0,
  "metadata": {
    "colab": {
      "provenance": [],
      "toc_visible": true
    },
    "kernelspec": {
      "name": "python3",
      "display_name": "Python 3"
    },
    "language_info": {
      "name": "python"
    }
  },
  "cells": [
    {
      "cell_type": "code",
      "source": [
        "!pip install youtube-comment-downloader"
      ],
      "metadata": {
        "colab": {
          "base_uri": "https://localhost:8080/"
        },
        "id": "ZMhvpCTyW51E",
        "outputId": "035c433e-42cf-42ac-943a-53897f44cfbe"
      },
      "execution_count": null,
      "outputs": [
        {
          "output_type": "stream",
          "name": "stdout",
          "text": [
            "Requirement already satisfied: youtube-comment-downloader in /usr/local/lib/python3.11/dist-packages (0.1.76)\n",
            "Requirement already satisfied: dateparser in /usr/local/lib/python3.11/dist-packages (from youtube-comment-downloader) (1.2.0)\n",
            "Requirement already satisfied: requests in /usr/local/lib/python3.11/dist-packages (from youtube-comment-downloader) (2.32.3)\n",
            "Requirement already satisfied: python-dateutil in /usr/local/lib/python3.11/dist-packages (from dateparser->youtube-comment-downloader) (2.8.2)\n",
            "Requirement already satisfied: pytz in /usr/local/lib/python3.11/dist-packages (from dateparser->youtube-comment-downloader) (2024.2)\n",
            "Requirement already satisfied: regex!=2019.02.19,!=2021.8.27 in /usr/local/lib/python3.11/dist-packages (from dateparser->youtube-comment-downloader) (2024.11.6)\n",
            "Requirement already satisfied: tzlocal in /usr/local/lib/python3.11/dist-packages (from dateparser->youtube-comment-downloader) (5.2)\n",
            "Requirement already satisfied: charset-normalizer<4,>=2 in /usr/local/lib/python3.11/dist-packages (from requests->youtube-comment-downloader) (3.4.1)\n",
            "Requirement already satisfied: idna<4,>=2.5 in /usr/local/lib/python3.11/dist-packages (from requests->youtube-comment-downloader) (3.10)\n",
            "Requirement already satisfied: urllib3<3,>=1.21.1 in /usr/local/lib/python3.11/dist-packages (from requests->youtube-comment-downloader) (2.3.0)\n",
            "Requirement already satisfied: certifi>=2017.4.17 in /usr/local/lib/python3.11/dist-packages (from requests->youtube-comment-downloader) (2024.12.14)\n",
            "Requirement already satisfied: six>=1.5 in /usr/local/lib/python3.11/dist-packages (from python-dateutil->dateparser->youtube-comment-downloader) (1.17.0)\n"
          ]
        }
      ]
    },
    {
      "cell_type": "markdown",
      "source": [],
      "metadata": {
        "id": "Mc-DU0fmWjo7"
      }
    },
    {
      "cell_type": "code",
      "source": [
        "# @title 기본 제목 텍스트\n",
        "# 원하고자 하는 영상 댓글 링크 가져와 붙인다.\n",
        "!youtube-comment-downloader --url \"https://www.youtube.com/watch?v=mIYzp5rcTvU\" --output YoutubeComments.json"
      ],
      "metadata": {
        "colab": {
          "base_uri": "https://localhost:8080/"
        },
        "id": "QFLNaO--XUjY",
        "outputId": "beccfc3f-3120-4b3a-85d3-ff096ee7f201"
      },
      "execution_count": null,
      "outputs": [
        {
          "output_type": "stream",
          "name": "stdout",
          "text": [
            "Downloading Youtube comments for https://www.youtube.com/watch?v=mIYzp5rcTvU\n",
            "Downloaded 19829 comment(s)\n",
            "[771.68 seconds] Done!\n"
          ]
        }
      ]
    },
    {
      "cell_type": "code",
      "source": [
        "import os\n",
        "\n",
        "json_file = \"YoutubeComments.json\"\n",
        "\n",
        "# 파일 경로 확인\n",
        "if os.path.exists(json_file):\n",
        "    print(f\"파일이 존재합니다: {json_file}\")\n",
        "else:\n",
        "    print(f\"파일을 찾을 수 없습니다: {json_file}\")"
      ],
      "metadata": {
        "colab": {
          "base_uri": "https://localhost:8080/"
        },
        "id": "Erd3vofCcgrA",
        "outputId": "e943e847-59ce-4656-87d0-7ffb81159597"
      },
      "execution_count": null,
      "outputs": [
        {
          "output_type": "stream",
          "name": "stdout",
          "text": [
            "파일이 존재합니다: YoutubeComments.json\n"
          ]
        }
      ]
    },
    {
      "cell_type": "code",
      "execution_count": null,
      "metadata": {
        "colab": {
          "base_uri": "https://localhost:8080/"
        },
        "id": "AXWSrVa2V5ON",
        "outputId": "7c7fba4d-97ab-457d-a809-e4065d56075f"
      },
      "outputs": [
        {
          "output_type": "stream",
          "name": "stdout",
          "text": [
            "YoutubeComments.json 파일이 삭제되었습니다.\n",
            "CSV 파일이 독서를 위한 클래식 음악 : 모차르트, 쇼팽, 드뷔시, 차이코프스키....csv로 저장되었습니다.\n"
          ]
        }
      ],
      "source": [
        "import json\n",
        "import pandas as pd\n",
        "import os\n",
        "\n",
        "json_file = 'YoutubeComments.json'  # JSON 파일 경로\n",
        "\n",
        "# 한 줄씩 JSON 객체로 불러오기\n",
        "with open(json_file, 'r', encoding='utf-8-sig') as f:\n",
        "    json_data = []\n",
        "    for line in f:\n",
        "        json_data.append(json.loads(line))  # 각 줄을 개별 JSON으로 읽기\n",
        "\n",
        "# JSON 데이터를 DataFrame으로 변환\n",
        "df = pd.DataFrame(json_data)\n",
        "\n",
        "# CSV 파일로 저장\n",
        "csv_file = '독서를 위한 클래식 음악 : 모차르트, 쇼팽, 드뷔시, 차이코프스키....csv'  # 저장할 CSV 파일 경로\n",
        "\n",
        "df.to_csv(csv_file, index=False, encoding='utf-8-sig')\n",
        "\n",
        "# JSON 파일 삭제\n",
        "if os.path.exists(json_file):\n",
        "    os.remove(json_file)\n",
        "    print(f\"{json_file} 파일이 삭제되었습니다.\")\n",
        "\n",
        "print(f\"CSV 파일이 {csv_file}로 저장되었습니다.\")"
      ]
    },
    {
      "cell_type": "code",
      "source": [],
      "metadata": {
        "id": "i62ntIeN1FVu"
      },
      "execution_count": null,
      "outputs": []
    }
  ]
}