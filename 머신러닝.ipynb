{
 "cells": [
  {
   "cell_type": "markdown",
   "id": "ac50bf01",
   "metadata": {},
   "source": [
    "비슷한 정신건강 패턴을 가진 사람들을 그룹화하여 어떤 음악을 선호하는지 분석\n",
    "모델:K-Means 클러스터링"
   ]
  },
  {
   "cell_type": "markdown",
   "id": "6ae5d09b",
   "metadata": {},
   "source": [
    "데이터 로드 및 기본 정보 확인"
   ]
  },
  {
   "cell_type": "code",
   "execution_count": 1,
   "id": "6a18cadc",
   "metadata": {},
   "outputs": [
    {
     "name": "stdout",
     "output_type": "stream",
     "text": [
      "<class 'pandas.core.frame.DataFrame'>\n",
      "RangeIndex: 206 entries, 0 to 205\n",
      "Data columns (total 15 columns):\n",
      " #   Column                        Non-Null Count  Dtype  \n",
      "---  ------                        --------------  -----  \n",
      " 0   Participant_ID                206 non-null    int64  \n",
      " 1   Song_name                     206 non-null    object \n",
      " 2   Artist                        206 non-null    object \n",
      " 3   Spotify_ID                    206 non-null    object \n",
      " 4   Loudness                      206 non-null    float64\n",
      " 5   Valence                       206 non-null    float64\n",
      " 6   Danceability                  206 non-null    float64\n",
      " 7   Acousticness                  206 non-null    float64\n",
      " 8   Instrumental                  206 non-null    float64\n",
      " 9   Audio_class                   206 non-null    object \n",
      " 10  Lyrics                        206 non-null    object \n",
      " 11  Sentiment_class               206 non-null    object \n",
      " 12  Audio + Lyrics analysis       206 non-null    object \n",
      " 13  Total_mental_health           206 non-null    int64  \n",
      " 14  Mental_health_severity_class  206 non-null    object \n",
      "dtypes: float64(5), int64(2), object(8)\n",
      "memory usage: 24.3+ KB\n"
     ]
    },
    {
     "data": {
      "text/plain": [
       "(   Participant_ID   Song_name             Artist              Spotify_ID  \\\n",
       " 0               2  Here again  Elevation Worship  1wuqCUWHniGdEmOKZbQ1cg   \n",
       " 1               2   The Stand    Hillsong United  0j2sui6BmkPy974W3VG3RZ   \n",
       " 2               2  Here I Bow      Brian Johnson  3RMcL7vuHuRzJQfMEuoJJP   \n",
       " 3               3   On my way        Alan Walker  5csliehPVWFrDaWJvdSvbB   \n",
       " 4               3     Bad guy      Billie Eilish  2Fxmhks0bxGSBdJ92vM42m   \n",
       " \n",
       "    Loudness  Valence  Danceability  Acousticness  Instrumental Audio_class  \\\n",
       " 0    -8.210    0.103         0.124        0.0128      0.000000         Sad   \n",
       " 1    -8.128    0.133         0.449        0.1470      0.000000         Sad   \n",
       " 2    -7.395    0.218         0.389        0.6780      0.000001         Sad   \n",
       " 3    -5.952    0.295         0.616        0.0480      0.000119       Tense   \n",
       " 4   -10.965    0.562         0.701        0.3280      0.130000       Relax   \n",
       " \n",
       "                                               Lyrics Sentiment_class  \\\n",
       " 0  Can't go back to the beginning\\n Can't control...        Positive   \n",
       " 1  You stood before creation\\n Eternity in your h...        Positive   \n",
       " 2  [Adolf Hitler:]\\n Vader... This is your last c...        Positive   \n",
       " 3  Today I'm kinda feelin' like a ghost\\n Call my...        Positive   \n",
       " 4  White shirt now red, my bloody nose\\n Sleepin'...        Positive   \n",
       " \n",
       "   Audio + Lyrics analysis  Total_mental_health Mental_health_severity_class  \n",
       " 0                     Sad                    8                          Low  \n",
       " 1                     Sad                    8                          Low  \n",
       " 2                     Sad                    8                          Low  \n",
       " 3     Exciting,Disturbing                   15                          Med  \n",
       " 4                   Relax                   15                          Med  ,\n",
       " None,\n",
       "        Participant_ID    Loudness     Valence  Danceability  Acousticness  \\\n",
       " count      206.000000  206.000000  206.000000    206.000000    206.000000   \n",
       " mean        36.310680   -8.186413    0.356261      0.519471      0.299355   \n",
       " std         20.312692    3.277153    0.220554      0.169376      0.322167   \n",
       " min          2.000000  -25.268000    0.036400      0.124000      0.000059   \n",
       " 25%         19.000000   -9.241750    0.180250      0.400000      0.017650   \n",
       " 50%         36.500000   -7.841000    0.308500      0.487000      0.147000   \n",
       " 75%         53.750000   -5.988750    0.503750      0.659250      0.526500   \n",
       " max         71.000000   -1.061000    0.930000      0.905000      0.995000   \n",
       " \n",
       "        Instrumental  Total_mental_health  \n",
       " count    206.000000           206.000000  \n",
       " mean       0.028446            13.053398  \n",
       " std        0.137068             4.209404  \n",
       " min        0.000000             7.000000  \n",
       " 25%        0.000000            10.000000  \n",
       " 50%        0.000000            12.000000  \n",
       " 75%        0.000016            15.000000  \n",
       " max        0.924000            28.000000  )"
      ]
     },
     "execution_count": 1,
     "metadata": {},
     "output_type": "execute_result"
    }
   ],
   "source": [
    "# 다시 파일을 로드하여 분석 진행\n",
    "import pandas as pd\n",
    "\n",
    "new_file_path = \"./data/Positive와 Negative 가사 감정이 정신 건강.csv\"\n",
    "df_new = pd.read_csv(new_file_path)\n",
    "\n",
    "# 데이터프레임 기본 정보 확인\n",
    "df_new.head(), df_new.info(), df_new.describe()"
   ]
  },
  {
   "cell_type": "markdown",
   "id": "9fd04c00",
   "metadata": {},
   "source": [
    "클러스터링을 위한 데이터 전처리"
   ]
  },
  {
   "cell_type": "code",
   "execution_count": 2,
   "id": "849282ec",
   "metadata": {},
   "outputs": [],
   "source": [
    "from sklearn.cluster import KMeans, DBSCAN\n",
    "from sklearn.preprocessing import StandardScaler\n",
    "import matplotlib.pyplot as plt\n",
    "import seaborn as sns\n",
    "\n",
    "# 필요한 변수 선택\n",
    "df_clustering = df_new[[\"Total_mental_health\"]].copy()\n",
    "\n",
    "# 'Audio + Lyrics analysis'는 범주형 데이터이므로 변환 필요 (라벨 인코딩)\n",
    "df_clustering[\"Audio + Lyrics analysis\"] = df_new[\"Audio + Lyrics analysis\"].astype(\"category\").cat.codes\n"
   ]
  },
  {
   "cell_type": "markdown",
   "id": "33e2e050",
   "metadata": {},
   "source": [
    "데이터 정규화 (StandardScaler 사용)"
   ]
  },
  {
   "cell_type": "code",
   "execution_count": 3,
   "id": "77512abc",
   "metadata": {},
   "outputs": [],
   "source": [
    "# 데이터 정규화 (K-Means, DBSCAN 성능 향상)\n",
    "scaler = StandardScaler()\n",
    "df_scaled = scaler.fit_transform(df_clustering)"
   ]
  },
  {
   "cell_type": "markdown",
   "id": "4a41e70a",
   "metadata": {},
   "source": [
    "정규화(Scaling) 필요 이유\n",
    "  Total_mental_health와 Audio + Lyrics analysis의 값 범위가 다를 수 있음\n",
    "  K-Means와 거리 기반 알고리즘이므로 정규화 필수\n",
    "StandardScaler 적용\n",
    "  평균을 0, 표준 편차를 1로 변환하여 모든 특성의 중요도를 동일하게 맞춤 "
   ]
  },
  {
   "cell_type": "code",
   "execution_count": 4,
   "id": "f91fa3d9",
   "metadata": {},
   "outputs": [
    {
     "data": {
      "image/png": "[encoded data removed]",
      "text/plain": [
       "<Figure size 800x500 with 1 Axes>"
      ]
     },
     "metadata": {},
     "output_type": "display_data"
    }
   ],
   "source": [
    "# ---------------- K-Means 클러스터링 실행행 ----------------\n",
    "# 최적의 클러스터 개수 찾기 (엘보우 방법)\n",
    "inertia = []\n",
    "K_range = range(1, 10)\n",
    "for k in K_range:\n",
    "    kmeans = KMeans(n_clusters=k, random_state=42, n_init=10)\n",
    "    kmeans.fit(df_scaled)\n",
    "    inertia.append(kmeans.inertia_)\n",
    "\n",
    "# 엘보우 그래프 출력\n",
    "plt.figure(figsize=(8, 5))\n",
    "plt.plot(K_range, inertia, marker=\"o\")\n",
    "plt.xlabel(\"Number of Clusters (K)\")\n",
    "plt.ylabel(\"Inertia\")\n",
    "plt.title(\"Elbow Method for Optimal K\")\n",
    "plt.show()"
   ]
  },
  {
   "cell_type": "markdown",
   "id": "3a717768",
   "metadata": {},
   "source": [
    "K-Means는 K(군집 개수)를 지정해야 함 → 최적의 K를 찾기 위해 엘보우 기법(Elbow Method) 사용\n",
    "inertia: 군집 내 거리 합을 계산하여, K가 증가할수록 줄어드는 패턴을 찾음\n",
    "엘보우 그래프를 보고 최적의 K를 선택"
   ]
  },
  {
   "cell_type": "code",
   "execution_count": 91,
   "id": "42d59b9f",
   "metadata": {},
   "outputs": [],
   "source": [
    "# 최적의 K를 3으로 설정하여 K-Means 실행(3개의 그룹으로 나눔눔)\n",
    "kmeans = KMeans(n_clusters=3, random_state=42, n_init=10)\n",
    "df_clustering[\"KMeans Cluster\"] = kmeans.fit_predict(df_scaled)\n",
    "#각 데이터가 속한 클러스터를 KMeans Cluster 열에 저장"
   ]
  },
  {
   "cell_type": "markdown",
   "id": "cfb59883",
   "metadata": {},
   "source": [
    "DBSCAN은 밀도 기반 클러스터링으로, 거리(eps)와 최소 샘플 개수(min_samples)를 설정해야 함\n",
    "DBSCAN의 특징\n",
    "K-Means와 달리 군집 개수를 지정하지 않아도 됨\n",
    "이상치(outlier) 데이터도 감지할 수 있음 (-1로 표시됨)"
   ]
  },
  {
   "cell_type": "code",
   "execution_count": 92,
   "id": "b824ffa0",
   "metadata": {},
   "outputs": [],
   "source": [
    "# ---------------- DBSCAN 클러스터링 실행행----------------\n",
    "dbscan = DBSCAN(eps=1.0, min_samples=5)  # eps는 거리 기준, min_samples는 최소 데이터 포인트 개수\n",
    "df_clustering[\"DBSCAN Cluster\"] = dbscan.fit_predict(df_scaled)"
   ]
  },
  {
   "cell_type": "markdown",
   "id": "596cb2f4",
   "metadata": {},
   "source": [
    "K-Means와 DBSCAN의 군집 결과를 비교\n",
    "X축: Total_mental_health, Y축: Audio + Lyrics analysis\n",
    "DBSCAN은 이상치를 감지할 수도 있음 (-1로 표시될 가능성 있음)"
   ]
  },
  {
   "cell_type": "code",
   "execution_count": 93,
   "id": "90d69b0b",
   "metadata": {},
   "outputs": [
    {
     "data": {
      "image/png": "[encoded data removed]",
      "text/plain": [
       "<Figure size 1200x500 with 2 Axes>"
      ]
     },
     "metadata": {},
     "output_type": "display_data"
    }
   ],
   "source": [
    "# 결과 시각화 (K-Means vs. DBSCAN)\n",
    "fig, axes = plt.subplots(1, 2, figsize=(12, 5))\n",
    "\n",
    "# K-Means 결과 시각화\n",
    "sns.scatterplot(\n",
    "    x=df_clustering[\"Total_mental_health\"],\n",
    "    y=df_clustering[\"Audio + Lyrics analysis\"],\n",
    "    hue=df_clustering[\"KMeans Cluster\"],\n",
    "    palette=\"viridis\",\n",
    "    ax=axes[0]\n",
    ")\n",
    "axes[0].set_title(\"K-Means Clustering\")\n",
    "\n",
    "# DBSCAN 결과 시각화\n",
    "sns.scatterplot(\n",
    "    x=df_clustering[\"Total_mental_health\"],\n",
    "    y=df_clustering[\"Audio + Lyrics analysis\"],\n",
    "    hue=df_clustering[\"DBSCAN Cluster\"],\n",
    "    palette=\"coolwarm\",\n",
    "    ax=axes[1]\n",
    ")\n",
    "axes[1].set_title(\"DBSCAN Clustering\")\n",
    "\n",
    "plt.show()\n",
    "\n"
   ]
  },
  {
   "cell_type": "markdown",
   "id": "5d801493",
   "metadata": {},
   "source": [
    "X축 : (Total_mental_health)총 정신 건강점수\n",
    "\n",
    "Y축 : (Audio + Lyrics analysis)오디오 및 가사 분석 카테고리\n",
    "\n",
    "색상(HUE) : 각 클러스터 그룹을 나타냄"
   ]
  },
  {
   "cell_type": "markdown",
   "id": "4f577175",
   "metadata": {},
   "source": [
    "                K-Means         DBSCAN\n",
    "클러스터 개수:    고정된 K,        자동으로 개수 경정\n",
    "\n",
    "클러스터 형태:\t 원형 형태,      밀더가 높은 지역을 클러스터로 인식\n",
    "\n",
    "이상치 처리:      이상치 포함,     이상치를 -1로 분류\n",
    "\n",
    "적용 데이터:      군집 크기 비슷할때,  데이터 밀도차이 클 때"
   ]
  },
  {
   "cell_type": "markdown",
   "id": "fd68d194",
   "metadata": {},
   "source": [
    "설명\n",
    "1.정신 건강 점수(Total_mental_health)와 음악 감성이 유사한 사람들끼리 그룹화됨\n",
    "    \n",
    "    예: 정신 건강 점수가 8점인 사람들은 K-Means에서 주로 2번 클러스터로 분류됨\n",
    "    특정 정신 건강 수준을 가진 사람들이 유사한 Audio + Lyrics analysis 특성을 보일 가능성\n",
    "\n",
    "2.K-Means 클러스터(0, 1, 2) 간 차이\n",
    "    \n",
    "    클러스터 0: 정신 건강 점수가 높은 그룹 → 특정 감성의 음악을 더 많이 들을 가능성\n",
    "    클러스터 1: 중간 수준의 정신 건강 그룹\n",
    "    클러스터 2: 정신 건강 점수가 낮은 그룹\n",
    "\n",
    "3.DBSCAN의 실패\n",
    "    \n",
    "    DBSCAN은 특정 밀도를 기준으로 군집을 나누지만(여기선 2개로), 이번 데이터에서는 모든 데이터가 하나의 클러스터(0번)에 포함됨\n",
    "    이는 정신 건강과 음악 감성 데이터가 명확한 밀도 기반 패턴을 갖고 있지 않음을 의미"
   ]
  },
  {
   "cell_type": "code",
   "execution_count": 94,
   "id": "ba8bb4ec",
   "metadata": {},
   "outputs": [
    {
     "data": {
      "text/html": [
       "<div>\n",
       "<style scoped>\n",
       "    .dataframe tbody tr th:only-of-type {\n",
       "        vertical-align: middle;\n",
       "    }\n",
       "\n",
       "    .dataframe tbody tr th {\n",
       "        vertical-align: top;\n",
       "    }\n",
       "\n",
       "    .dataframe thead th {\n",
       "        text-align: right;\n",
       "    }\n",
       "</style>\n",
       "<table border=\"1\" class=\"dataframe\">\n",
       "  <thead>\n",
       "    <tr style=\"text-align: right;\">\n",
       "      <th></th>\n",
       "      <th>Total_mental_health</th>\n",
       "      <th>Audio + Lyrics analysis</th>\n",
       "      <th>KMeans Cluster</th>\n",
       "      <th>DBSCAN Cluster</th>\n",
       "    </tr>\n",
       "  </thead>\n",
       "  <tbody>\n",
       "    <tr>\n",
       "      <th>0</th>\n",
       "      <td>8</td>\n",
       "      <td>3</td>\n",
       "      <td>1</td>\n",
       "      <td>0</td>\n",
       "    </tr>\n",
       "    <tr>\n",
       "      <th>1</th>\n",
       "      <td>8</td>\n",
       "      <td>3</td>\n",
       "      <td>1</td>\n",
       "      <td>0</td>\n",
       "    </tr>\n",
       "    <tr>\n",
       "      <th>2</th>\n",
       "      <td>8</td>\n",
       "      <td>3</td>\n",
       "      <td>1</td>\n",
       "      <td>0</td>\n",
       "    </tr>\n",
       "    <tr>\n",
       "      <th>3</th>\n",
       "      <td>15</td>\n",
       "      <td>0</td>\n",
       "      <td>0</td>\n",
       "      <td>0</td>\n",
       "    </tr>\n",
       "    <tr>\n",
       "      <th>4</th>\n",
       "      <td>15</td>\n",
       "      <td>2</td>\n",
       "      <td>2</td>\n",
       "      <td>0</td>\n",
       "    </tr>\n",
       "  </tbody>\n",
       "</table>\n",
       "</div>"
      ],
      "text/plain": [
       "   Total_mental_health  Audio + Lyrics analysis  KMeans Cluster  \\\n",
       "0                    8                        3               1   \n",
       "1                    8                        3               1   \n",
       "2                    8                        3               1   \n",
       "3                   15                        0               0   \n",
       "4                   15                        2               2   \n",
       "\n",
       "   DBSCAN Cluster  \n",
       "0               0  \n",
       "1               0  \n",
       "2               0  \n",
       "3               0  \n",
       "4               0  "
      ]
     },
     "execution_count": 94,
     "metadata": {},
     "output_type": "execute_result"
    }
   ],
   "source": [
    "# 클러스터링 결과 반환\n",
    "df_clustering.head()"
   ]
  },
  {
   "cell_type": "markdown",
   "id": "25493440",
   "metadata": {},
   "source": [
    "클러스터별 정신 건강 점수 분포 분석"
   ]
  },
  {
   "cell_type": "code",
   "execution_count": 95,
   "id": "81a30ee7",
   "metadata": {},
   "outputs": [],
   "source": [
    "# 클러스터별 통계 요약\n",
    "cluster_summary = df_clustering.groupby(\"KMeans Cluster\")[\"Total_mental_health\"].describe()\n",
    "\n",
    "# 클러스터별 정신 건강 점수 평균 기준 정렬\n",
    "cluster_summary = cluster_summary.sort_values(by=\"mean\", ascending=False)\n"
   ]
  },
  {
   "cell_type": "markdown",
   "id": "69c0ae44",
   "metadata": {},
   "source": [
    "각 클러스터(0, 1, 2) 별 정신 건강 점수의 평균, 표준편차, 최소/최대 값 분석"
   ]
  },
  {
   "cell_type": "code",
   "execution_count": 96,
   "id": "3f94b5a0",
   "metadata": {},
   "outputs": [],
   "source": [
    "# 클러스터별 정신 건강 점수 평균 출력\n",
    "cluster_means = cluster_summary[\"mean\"]\n",
    "\n",
    "# 클러스터별 정신 건강 상태 정의\n",
    "cluster_definitions = {\n",
    "    cluster_summary.index[0]: \"정신 건강 점수가 높은 그룹 (정신 건강 문제가 상대적으로 많을 가능성이 큼)\",\n",
    "    cluster_summary.index[1]: \"중간 그룹\",\n",
    "    cluster_summary.index[2]: \"정신 건강이 좋은 그룹\"\n",
    "\n",
    "}"
   ]
  },
  {
   "cell_type": "code",
   "execution_count": 97,
   "id": "a143ec89",
   "metadata": {},
   "outputs": [
    {
     "name": "stderr",
     "output_type": "stream",
     "text": [
      "C:\\Users\\user\\AppData\\Local\\Temp\\ipykernel_14224\\2991142153.py:3: FutureWarning: \n",
      "\n",
      "Passing `palette` without assigning `hue` is deprecated and will be removed in v0.14.0. Assign the `x` variable to `hue` and set `legend=False` for the same effect.\n",
      "\n",
      "  sns.boxplot(x=df_clustering[\"KMeans Cluster\"], y=df_clustering[\"Total_mental_health\"], palette=\"viridis\")\n"
     ]
    },
    {
     "data": {
      "image/png": "[encoded data removed]",
      "text/plain": [
       "<Figure size 800x500 with 1 Axes>"
      ]
     },
     "metadata": {},
     "output_type": "display_data"
    },
    {
     "data": {
      "text/plain": [
       "(                count       mean       std   min   25%   50%   75%   max\n",
       " KMeans Cluster                                                          \n",
       " 2                62.0  16.822581  3.532167  14.0  14.0  15.0  18.0  28.0\n",
       " 0                51.0  13.745098  4.132036   7.0  10.5  14.0  17.0  23.0\n",
       " 1                93.0  10.161290  1.907025   7.0   8.0  11.0  12.0  13.0,\n",
       " {2: '정신 건강 점수가 높은 그룹 (정신 건강 문제가 상대적으로 많을 가능성이 큼)',\n",
       "  0: '중간 그룹',\n",
       "  1: '정신 건강이 좋은 그룹'})"
      ]
     },
     "execution_count": 97,
     "metadata": {},
     "output_type": "execute_result"
    }
   ],
   "source": [
    "# 클러스터별 정신 건강 점수 분포 시각화\n",
    "plt.figure(figsize=(8, 5))\n",
    "sns.boxplot(x=df_clustering[\"KMeans Cluster\"], y=df_clustering[\"Total_mental_health\"], palette=\"viridis\")\n",
    "plt.xlabel(\"K-Means Cluster\")\n",
    "plt.ylabel(\"Total Mental Health Score\")\n",
    "plt.title(\"Distribution of Mental Health Scores by Cluster\")\n",
    "plt.show()\n",
    "\n",
    "# 클러스터별 정신 건강 점수 및 정의 출력\n",
    "cluster_summary, cluster_definitions"
   ]
  },
  {
   "cell_type": "markdown",
   "id": "03825f03",
   "metadata": {},
   "source": [
    "박스플롯을 사용하여 클러스터별 정신 건강 점수 분포 확인\n",
    "특정 클러스터가 정신 건강 점수가 높은지, 낮은지 확인 가능"
   ]
  },
  {
   "cell_type": "code",
   "execution_count": 98,
   "id": "33e4e503",
   "metadata": {},
   "outputs": [],
   "source": [
    "# 클러스터별 음악 감성 특성 분석\n",
    "df_clustering[\"Cluster\"] = df_clustering[\"KMeans Cluster\"]\n",
    "df_analysis = df_new.copy()\n",
    "df_analysis[\"Cluster\"] = df_clustering[\"Cluster\"]\n",
    "\n",
    "# 클러스터별 평균 Valence(음악 긍정감), Danceability(댄스성), Loudness(음량) 비교\n",
    "feature_means = df_analysis.groupby(\"Cluster\")[[\"Valence\", \"Danceability\", \"Loudness\"]].mean()"
   ]
  },
  {
   "cell_type": "markdown",
   "id": "6f5ff8a6",
   "metadata": {},
   "source": [
    "클러스터별 Valence(음악 긍정감), Danceability(댄스성), Loudness(음량) 평균값 비교\n",
    "특정 클러스터가 더 긍정적인 음악을 듣는지, 더 댄서블한 음악을 선호하는지 분석"
   ]
  },
  {
   "cell_type": "code",
   "execution_count": 99,
   "id": "5c236a2a",
   "metadata": {},
   "outputs": [
    {
     "name": "stderr",
     "output_type": "stream",
     "text": [
      "C:\\Users\\user\\AppData\\Local\\Temp\\ipykernel_14224\\342667205.py:11: FutureWarning: \n",
      "\n",
      "Passing `palette` without assigning `hue` is deprecated and will be removed in v0.14.0. Assign the `x` variable to `hue` and set `legend=False` for the same effect.\n",
      "\n",
      "  sns.barplot(x=feature_means.index, y=feature_means[\"Valence\"], ax=axes[0], palette=\"viridis\")\n",
      "C:\\Users\\user\\AppData\\Local\\Temp\\ipykernel_14224\\342667205.py:14: FutureWarning: \n",
      "\n",
      "Passing `palette` without assigning `hue` is deprecated and will be removed in v0.14.0. Assign the `x` variable to `hue` and set `legend=False` for the same effect.\n",
      "\n",
      "  sns.barplot(x=feature_means.index, y=feature_means[\"Danceability\"], ax=axes[1], palette=\"plasma\")\n",
      "C:\\Users\\user\\AppData\\Local\\Temp\\ipykernel_14224\\342667205.py:17: FutureWarning: \n",
      "\n",
      "Passing `palette` without assigning `hue` is deprecated and will be removed in v0.14.0. Assign the `x` variable to `hue` and set `legend=False` for the same effect.\n",
      "\n",
      "  sns.barplot(x=feature_means.index, y=feature_means[\"Loudness\"], ax=axes[2], palette=\"coolwarm\")\n",
      "c:\\Users\\user\\AppData\\Local\\Programs\\Python\\Python311\\Lib\\site-packages\\IPython\\core\\pylabtools.py:170: UserWarning: Glyph 8722 (\\N{MINUS SIGN}) missing from font(s) Malgun Gothic.\n",
      "  fig.canvas.print_figure(bytes_io, **kw)\n"
     ]
    },
    {
     "data": {
      "image/png": "[encoded data removed]",
      "text/plain": [
       "<Figure size 1500x500 with 3 Axes>"
      ]
     },
     "metadata": {},
     "output_type": "display_data"
    },
    {
     "data": {
      "text/html": [
       "<div>\n",
       "<style scoped>\n",
       "    .dataframe tbody tr th:only-of-type {\n",
       "        vertical-align: middle;\n",
       "    }\n",
       "\n",
       "    .dataframe tbody tr th {\n",
       "        vertical-align: top;\n",
       "    }\n",
       "\n",
       "    .dataframe thead th {\n",
       "        text-align: right;\n",
       "    }\n",
       "</style>\n",
       "<table border=\"1\" class=\"dataframe\">\n",
       "  <thead>\n",
       "    <tr style=\"text-align: right;\">\n",
       "      <th></th>\n",
       "      <th>count</th>\n",
       "      <th>mean</th>\n",
       "      <th>std</th>\n",
       "      <th>min</th>\n",
       "      <th>25%</th>\n",
       "      <th>50%</th>\n",
       "      <th>75%</th>\n",
       "      <th>max</th>\n",
       "    </tr>\n",
       "  </thead>\n",
       "  <tbody>\n",
       "    <tr>\n",
       "      <th>0</th>\n",
       "      <td>62.0</td>\n",
       "      <td>16.822581</td>\n",
       "      <td>3.532167</td>\n",
       "      <td>14.0</td>\n",
       "      <td>14.0</td>\n",
       "      <td>15.0</td>\n",
       "      <td>18.0</td>\n",
       "      <td>28.0</td>\n",
       "    </tr>\n",
       "    <tr>\n",
       "      <th>1</th>\n",
       "      <td>51.0</td>\n",
       "      <td>13.745098</td>\n",
       "      <td>4.132036</td>\n",
       "      <td>7.0</td>\n",
       "      <td>10.5</td>\n",
       "      <td>14.0</td>\n",
       "      <td>17.0</td>\n",
       "      <td>23.0</td>\n",
       "    </tr>\n",
       "    <tr>\n",
       "      <th>2</th>\n",
       "      <td>93.0</td>\n",
       "      <td>10.161290</td>\n",
       "      <td>1.907025</td>\n",
       "      <td>7.0</td>\n",
       "      <td>8.0</td>\n",
       "      <td>11.0</td>\n",
       "      <td>12.0</td>\n",
       "      <td>13.0</td>\n",
       "    </tr>\n",
       "  </tbody>\n",
       "</table>\n",
       "</div>"
      ],
      "text/plain": [
       "   count       mean       std   min   25%   50%   75%   max\n",
       "0   62.0  16.822581  3.532167  14.0  14.0  15.0  18.0  28.0\n",
       "1   51.0  13.745098  4.132036   7.0  10.5  14.0  17.0  23.0\n",
       "2   93.0  10.161290  1.907025   7.0   8.0  11.0  12.0  13.0"
      ]
     },
     "execution_count": 99,
     "metadata": {},
     "output_type": "execute_result"
    }
   ],
   "source": [
    "#한글폰트 지정\n",
    "plt.rc('font', family='Malgun Gothic') \n",
    "%matplotlib inline\n",
    "\n",
    "# 클러스터 인덱스를 0, 1, 2 순서대로 변경\n",
    "cluster_summary.index = [0, 1, 2]\n",
    "\n",
    "# 클러스터별 음악 감성 특성 시각화\n",
    "fig, axes = plt.subplots(1, 3, figsize=(15, 5))\n",
    "\n",
    "sns.barplot(x=feature_means.index, y=feature_means[\"Valence\"], ax=axes[0], palette=\"viridis\")\n",
    "axes[0].set_title(\"Average Valence(음악 감감) by Cluster\")\n",
    "\n",
    "sns.barplot(x=feature_means.index, y=feature_means[\"Danceability\"], ax=axes[1], palette=\"plasma\")\n",
    "axes[1].set_title(\"Average Danceability(댄스성) by Cluster\")\n",
    "\n",
    "sns.barplot(x=feature_means.index, y=feature_means[\"Loudness\"], ax=axes[2], palette=\"coolwarm\")\n",
    "axes[2].set_title(\"Average Loudness(음량) by Cluster\")\n",
    "\n",
    "plt.show()\n",
    "\n",
    "# 클러스터별 정신 건강 점수 통계 출력\n",
    "\n",
    "\n",
    "# 정렬된 클러스터 통계 출력\n",
    "cluster_summary\n",
    "\n"
   ]
  },
  {
   "cell_type": "markdown",
   "id": "57996ad6",
   "metadata": {},
   "source": [
    "해석\n",
    "\n",
    "Cluster 0: 정신 건강 점수가 높은 그룹 (평균 16.82) → 정신 건강 문제가 상대적으로 많을 가능성이 큼\n",
    "\n",
    "Cluster 1: 중간 그룹 (평균 13.74)\n",
    "\n",
    "Cluster 2: 정신 건강이 좋은 그룹 (평균 10.16)\n",
    "\n",
    "클러스터별 평균 음악 감성 비교\n",
    "\n",
    "Valence(음악 긍정감)\n",
    "\n",
    "**Cluster 2 (정신 건강 좋은 그룹)**이 가장 높은 Valence (긍정적인 음악을 더 선호)\n",
    "**Cluster 0 (정신 건강 안 좋은 그룹)**은 가장 낮은 Valence → 부정적인 음악을 선호할 가능성\n",
    "\n",
    "Danceability(댄스성)\n",
    "\n",
    "정신 건강이 높은 그룹(Cluster 0)이 **Danceability(댄스성)**이 가장 낮음\n",
    "반면, 정신 건강이 좋은 그룹(Cluster 2)은 Danceability가 높음 → 더 리드미컬한 음악을 선호할 가능성\n",
    "\n",
    "Loudness(음량)\n",
    "\n",
    "정신 건강 점수가 낮을수록 (Cluster 2) Loudness가 낮음\n",
    "정신 건강이 나쁜 그룹(Cluster 0)은 더 시끄러운 음악을 듣는 경향\n"
   ]
  },
  {
   "cell_type": "markdown",
   "id": "e221547a",
   "metadata": {},
   "source": [
    "결론\n",
    "\n",
    " K-Means와 DBSCAN을 활용하여 정신 건강 점수와 음악 감성을 기반으로 그룹화\n",
    " 클러스터별 정신 건강 점수 차이 및 음악 감성 차이 분석 가능\n",
    " 결과를 바탕으로 특정 정신 건강 상태에 따른 음악 선호도를 예측 가능 "
   ]
  },
  {
   "cell_type": "code",
   "execution_count": 100,
   "id": "da057c76",
   "metadata": {},
   "outputs": [
    {
     "data": {
      "text/plain": [
       "{'Linear Regression': {'MAE': 3.437331978552299,\n",
       "  'MSE': 21.106071497396176,\n",
       "  'R²': -0.0785373731577883},\n",
       " 'Random Forest': {'MAE': 3.6379994760530483,\n",
       "  'MSE': 22.778444131646282,\n",
       "  'R²': -0.16399697126952595}}"
      ]
     },
     "execution_count": 100,
     "metadata": {},
     "output_type": "execute_result"
    }
   ],
   "source": [
    "# 필요한 라이브러리 불러오기\n",
    "from sklearn.linear_model import LinearRegression\n",
    "from sklearn.ensemble import RandomForestRegressor\n",
    "from sklearn.preprocessing import LabelEncoder\n",
    "from sklearn.metrics import mean_absolute_error, mean_squared_error, r2_score\n",
    "from sklearn.model_selection import train_test_split\n",
    "\n",
    "# 필요한 변수 선택\n",
    "features = [\"Loudness\", \"Valence\", \"Danceability\", \"Acousticness\", \"Instrumental\", \"Sentiment_class\"]\n",
    "target = \"Total_mental_health\"\n",
    "\n",
    "df_regression = df_new[features + [target]].dropna().copy()\n",
    "\n",
    "# 범주형 변수(Sentiment_class) 인코딩\n",
    "label_encoder = LabelEncoder()\n",
    "df_regression[\"Sentiment_class\"] = label_encoder.fit_transform(df_regression[\"Sentiment_class\"])\n",
    "\n",
    "# 독립 변수(X)와 종속 변수(y) 분리\n",
    "X = df_regression[features]\n",
    "y = df_regression[target]\n",
    "\n",
    "# 데이터 분할 (훈련 80% / 테스트 20%)\n",
    "X_train, X_test, y_train, y_test = train_test_split(X, y, test_size=0.2, random_state=42)\n",
    "\n",
    "# 모델 초기화\n",
    "models = {\n",
    "    \"Linear Regression\": LinearRegression(),\n",
    "    \"Random Forest\": RandomForestRegressor(n_estimators=100, random_state=42)\n",
    "}\n",
    "\n",
    "# 모델 훈련 및 평가\n",
    "results = {}\n",
    "for model_name, model in models.items():\n",
    "    model.fit(X_train, y_train)\n",
    "    y_pred = model.predict(X_test)\n",
    "\n",
    "    mae = mean_absolute_error(y_test, y_pred)\n",
    "    mse = mean_squared_error(y_test, y_pred)\n",
    "    r2 = r2_score(y_test, y_pred)\n",
    "\n",
    "    results[model_name] = {\"MAE\": mae, \"MSE\": mse, \"R²\": r2}\n",
    "\n",
    "# 결과 출력\n",
    "results\n"
   ]
  },
  {
   "cell_type": "code",
   "execution_count": 101,
   "id": "3f6731f8",
   "metadata": {},
   "outputs": [
    {
     "data": {
      "text/plain": [
       "((164, 6), (42, 6), (164,), (42,))"
      ]
     },
     "execution_count": 101,
     "metadata": {},
     "output_type": "execute_result"
    }
   ],
   "source": [
    "import pandas as pd\n",
    "from sklearn.model_selection import train_test_split\n",
    "from sklearn.preprocessing import LabelEncoder, StandardScaler\n",
    "import numpy as np\n",
    "\n",
    "# 파일 경로\n",
    "file_path = \"./data/Positive와 Negative 가사 감정이 정신 건강.csv\"\n",
    "\n",
    "# 데이터 로드\n",
    "df = pd.read_csv(file_path)\n",
    "\n",
    "# 데이터 확인\n",
    "df.head()\n",
    "\n",
    "# 불필요한 열 제거\n",
    "columns_to_drop = [\"Participant_ID\", \"Song_name\", \"Artist\", \"Spotify_ID\", \"Lyrics\", \"Audio_class\", \"Audio + Lyrics analysis\", \"Mental_health_severity_class\"]\n",
    "df = df.drop(columns=columns_to_drop, errors=\"ignore\")\n",
    "\n",
    "# 범주형 변수 변환 (Label Encoding)\n",
    "label_encoder = LabelEncoder()\n",
    "df[\"Sentiment_class\"] = label_encoder.fit_transform(df[\"Sentiment_class\"])\n",
    "\n",
    "# 결측치 확인 및 제거 (필요한 경우)\n",
    "df = df.dropna()\n",
    "\n",
    "# 입력 변수 (X)와 목표 변수 (y) 설정\n",
    "X = df.drop(columns=[\"Total_mental_health\"])\n",
    "y = df[\"Total_mental_health\"].astype(float)  # 숫자형 변환\n",
    "\n",
    "# 데이터 분할 (80% 훈련, 20% 테스트)\n",
    "X_train, X_test, y_train, y_test = train_test_split(X, y, test_size=0.2, random_state=42)\n",
    "\n",
    "# 특성 스케일링 (표준화)\n",
    "scaler = StandardScaler()\n",
    "X_train_scaled = scaler.fit_transform(X_train)\n",
    "X_test_scaled = scaler.transform(X_test)\n",
    "\n",
    "# 데이터 전처리 결과 확인\n",
    "X_train.shape, X_test.shape, y_train.shape, y_test.shape\n"
   ]
  },
  {
   "cell_type": "code",
   "execution_count": 102,
   "id": "8acccc6b",
   "metadata": {},
   "outputs": [
    {
     "data": {
      "text/plain": [
       "{'Linear Regression': {'MAE': 3.437331978552299,\n",
       "  'MSE': 21.106071497396176,\n",
       "  'R²': -0.0785373731577883},\n",
       " 'Random Forest': {'MAE': 3.6379994760530483,\n",
       "  'MSE': 22.778444131646282,\n",
       "  'R²': -0.16399697126952595}}"
      ]
     },
     "execution_count": 102,
     "metadata": {},
     "output_type": "execute_result"
    }
   ],
   "source": [
    "# 필요한 라이브러리 다시 불러오기\n",
    "from sklearn.linear_model import LinearRegression\n",
    "from sklearn.ensemble import RandomForestRegressor\n",
    "from sklearn.preprocessing import LabelEncoder\n",
    "from sklearn.metrics import mean_absolute_error, mean_squared_error, r2_score\n",
    "from sklearn.model_selection import train_test_split\n",
    "\n",
    "# 데이터 다시 로드\n",
    "new_file_path = \"./data/Positive와 Negative 가사 감정이 정신 건강.csv\"\n",
    "df_new = pd.read_csv(new_file_path)\n",
    "\n",
    "# 필요한 변수 선택\n",
    "features = [\"Loudness\", \"Valence\", \"Danceability\", \"Acousticness\", \"Instrumental\", \"Sentiment_class\"]\n",
    "target = \"Total_mental_health\"\n",
    "\n",
    "df_regression = df_new[features + [target]].dropna().copy()\n",
    "\n",
    "# 범주형 변수(Sentiment_class) 인코딩\n",
    "label_encoder = LabelEncoder()\n",
    "df_regression[\"Sentiment_class\"] = label_encoder.fit_transform(df_regression[\"Sentiment_class\"])\n",
    "\n",
    "# 독립 변수(X)와 종속 변수(y) 분리\n",
    "X = df_regression[features]\n",
    "y = df_regression[target]\n",
    "\n",
    "# 데이터 분할 (훈련 80% / 테스트 20%)\n",
    "X_train, X_test, y_train, y_test = train_test_split(X, y, test_size=0.2, random_state=42)\n",
    "\n",
    "# 모델 초기화\n",
    "models = {\n",
    "    \"Linear Regression\": LinearRegression(),\n",
    "    \"Random Forest\": RandomForestRegressor(n_estimators=100, random_state=42)\n",
    "}\n",
    "\n",
    "# 모델 훈련 및 평가\n",
    "results = {}\n",
    "for model_name, model in models.items():\n",
    "    model.fit(X_train, y_train)\n",
    "    y_pred = model.predict(X_test)\n",
    "\n",
    "    mae = mean_absolute_error(y_test, y_pred)\n",
    "    mse = mean_squared_error(y_test, y_pred)\n",
    "    r2 = r2_score(y_test, y_pred)\n",
    "\n",
    "    results[model_name] = {\"MAE\": mae, \"MSE\": mse, \"R²\": r2}\n",
    "\n",
    "# 결과 출력\n",
    "results\n",
    "\n"
   ]
  },
  {
   "cell_type": "code",
   "execution_count": 103,
   "id": "d1165a7c",
   "metadata": {},
   "outputs": [],
   "source": [
    "# XGBoost 모델 학습 (학습 속도 최적화 적용)\n",
    "# xgb_model = xgb.XGBRegressor(\n",
    "#     objective=\"reg:squarederror\",\n",
    "#     n_estimators=100,  # 트리 개수\n",
    "#     learning_rate=0.05,  # 학습률 조정 (완만한 학습)\n",
    "#     max_depth=4,  # 트리의 최대 깊이 설정\n",
    "#     subsample=0.8,  # 일부 샘플 사용 (과적합 방지)\n",
    "#     colsample_bytree=0.8,  # 일부 특성만 사용 (과적합 방지)\n",
    "#     random_state=42\n",
    "# )\n",
    "\n",
    "# # 모델 훈련\n",
    "# xgb_model.fit(X_train_scaled, y_train)\n",
    "\n",
    "# # 예측 수행\n",
    "# y_pred_xgb = xgb_model.predict(X_test_scaled)\n",
    "\n",
    "# # 성능 평가\n",
    "# mae_xgb = mean_absolute_error(y_test, y_pred_xgb)\n",
    "# mse_xgb = mean_squared_error(y_test, y_pred_xgb)\n",
    "# r2_xgb = r2_score(y_test, y_pred_xgb)\n",
    "\n",
    "# # 결과 출력\n",
    "# mae_xgb, mse_xgb, r2_xgb"
   ]
  },
  {
   "cell_type": "code",
   "execution_count": 104,
   "id": "4b526f92",
   "metadata": {},
   "outputs": [
    {
     "name": "stderr",
     "output_type": "stream",
     "text": [
      "c:\\Users\\user\\AppData\\Local\\Programs\\Python\\Python311\\Lib\\site-packages\\keras\\src\\layers\\core\\dense.py:87: UserWarning: Do not pass an `input_shape`/`input_dim` argument to a layer. When using Sequential models, prefer using an `Input(shape)` object as the first layer in the model instead.\n",
      "  super().__init__(activity_regularizer=activity_regularizer, **kwargs)\n"
     ]
    },
    {
     "name": "stdout",
     "output_type": "stream",
     "text": [
      "\u001b[1m2/2\u001b[0m \u001b[32m━━━━━━━━━━━━━━━━━━━━\u001b[0m\u001b[37m\u001b[0m \u001b[1m0s\u001b[0m 35ms/step\n"
     ]
    },
    {
     "data": {
      "text/plain": [
       "(3.5872273445129395, 22.84515380859375, -0.1674058437347412)"
      ]
     },
     "execution_count": 104,
     "metadata": {},
     "output_type": "execute_result"
    }
   ],
   "source": [
    "import tensorflow as tf\n",
    "from tensorflow import keras\n",
    "from tensorflow.keras import layers\n",
    "\n",
    "# 신경망 모델 정의\n",
    "nn_model = keras.Sequential([\n",
    "    layers.Dense(64, activation=\"relu\", input_shape=(X_train_scaled.shape[1],)),\n",
    "    layers.Dense(32, activation=\"relu\"),\n",
    "    layers.Dense(1)  # 출력층 (연속형 변수 예측)\n",
    "])\n",
    "\n",
    "# 모델 컴파일\n",
    "nn_model.compile(optimizer=\"adam\", loss=\"mse\", metrics=[\"mae\"])\n",
    "\n",
    "# 모델 학습\n",
    "history = nn_model.fit(X_train_scaled, y_train, epochs=50, batch_size=8, validation_data=(X_test_scaled, y_test), verbose=0)\n",
    "\n",
    "# 예측 수행\n",
    "y_pred_nn = nn_model.predict(X_test_scaled).flatten()\n",
    "\n",
    "# 성능 평가\n",
    "mae_nn = mean_absolute_error(y_test, y_pred_nn)\n",
    "mse_nn = mean_squared_error(y_test, y_pred_nn)\n",
    "r2_nn = r2_score(y_test, y_pred_nn)\n",
    "\n",
    "# 결과 출력\n",
    "mae_nn, mse_nn, r2_nn\n"
   ]
  },
  {
   "cell_type": "code",
   "execution_count": null,
   "id": "5f95d97c",
   "metadata": {},
   "outputs": [],
   "source": []
  }
 ],
 "metadata": {
  "kernelspec": {
   "display_name": "Python 3",
   "language": "python",
   "name": "python3"
  },
  "language_info": {
   "codemirror_mode": {
    "name": "ipython",
    "version": 3
   },
   "file_extension": ".py",
   "mimetype": "text/x-python",
   "name": "python",
   "nbconvert_exporter": "python",
   "pygments_lexer": "ipython3",
   "version": "3.11.9"
  }
 },
 "nbformat": 4,
 "nbformat_minor": 5
}
